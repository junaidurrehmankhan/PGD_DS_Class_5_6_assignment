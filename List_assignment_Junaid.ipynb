{
  "cells": [
    {
      "cell_type": "markdown",
      "metadata": {
        "id": "view-in-github",
        "colab_type": "text"
      },
      "source": [
        "<a href=\"https://colab.research.google.com/github/junaidurrehmankhan/PGD_DS_Class_5_6_assignment/blob/main/List_assignment_Junaid.ipynb\" target=\"_parent\"><img src=\"https://colab.research.google.com/assets/colab-badge.svg\" alt=\"Open In Colab\"/></a>"
      ]
    },
    {
      "cell_type": "markdown",
      "metadata": {
        "id": "4rbpDQyhJJxH"
      },
      "source": [
        "#**1- Basic List Operations**"
      ]
    },
    {
      "cell_type": "code",
      "execution_count": null,
      "metadata": {
        "colab": {
          "base_uri": "https://localhost:8080/"
        },
        "id": "LDgROkbNI8P7",
        "outputId": "18cdad54-49f1-47ff-d1bf-d482e17898d4"
      },
      "outputs": [
        {
          "name": "stdout",
          "output_type": "stream",
          "text": [
            "<class 'list'>\n"
          ]
        }
      ],
      "source": [
        "fruits = [\"apple\" , \"Banana\" , \"orange\" , \"grapes\" , \"kiwi\"]\n",
        "print (type(fruits))"
      ]
    },
    {
      "cell_type": "markdown",
      "metadata": {
        "id": "wKkq4xmeUqGz"
      },
      "source": [
        "**a- Add \"pear\" to the end of the list**"
      ]
    },
    {
      "cell_type": "code",
      "execution_count": null,
      "metadata": {
        "colab": {
          "base_uri": "https://localhost:8080/"
        },
        "id": "ffjrRi-3K7Uo",
        "outputId": "9d9177db-cb35-4102-8bab-8547ee7988e9"
      },
      "outputs": [
        {
          "name": "stdout",
          "output_type": "stream",
          "text": [
            "['apple', 'Banana', 'orange', 'grapes', 'kiwi', 'pear']\n"
          ]
        }
      ],
      "source": [
        "fruits = [\"apple\" , \"Banana\" , \"orange\" , \"grapes\" , \"kiwi\"]\n",
        "fruits.append(\"pear\")\n",
        "print (fruits)"
      ]
    },
    {
      "cell_type": "markdown",
      "metadata": {
        "id": "hgWij_-zUy2r"
      },
      "source": [
        "**b- Insert \"mango\" at the second position in the list**"
      ]
    },
    {
      "cell_type": "code",
      "execution_count": null,
      "metadata": {
        "colab": {
          "base_uri": "https://localhost:8080/"
        },
        "id": "tY3Hx4I8T8oj",
        "outputId": "cf762392-aede-4b45-d083-7435bed623fd"
      },
      "outputs": [
        {
          "name": "stdout",
          "output_type": "stream",
          "text": [
            "['apple', 'mango', 'Banana', 'orange', 'grapes', 'kiwi']\n"
          ]
        }
      ],
      "source": [
        "fruits = [\"apple\" , \"Banana\" , \"orange\" , \"grapes\" , \"kiwi\"]\n",
        "fruits.insert(1,\"mango\")\n",
        "print (fruits)"
      ]
    },
    {
      "cell_type": "markdown",
      "metadata": {
        "id": "3hywzJk_U6Ah"
      },
      "source": [
        "**c- Remove \"orange\" from the list**"
      ]
    },
    {
      "cell_type": "code",
      "execution_count": null,
      "metadata": {
        "colab": {
          "base_uri": "https://localhost:8080/"
        },
        "id": "1LZPYVosUSyx",
        "outputId": "2e550686-44f2-4eca-85e2-70f330bceeb3"
      },
      "outputs": [
        {
          "name": "stdout",
          "output_type": "stream",
          "text": [
            "['apple', 'Banana', 'grapes', 'kiwi']\n"
          ]
        }
      ],
      "source": [
        "fruits = [\"apple\" , \"Banana\" , \"orange\" , \"grapes\" , \"kiwi\"]\n",
        "fruits.remove(\"orange\")\n",
        "print (fruits)"
      ]
    },
    {
      "cell_type": "markdown",
      "metadata": {
        "id": "MjQG34hQVLmS"
      },
      "source": [
        "#**2- Slicing and Indexing**"
      ]
    },
    {
      "cell_type": "markdown",
      "metadata": {
        "id": "iewGthvTVQzb"
      },
      "source": [
        "**a- Create a list named `numbers` containing the integers from 0 to 9**"
      ]
    },
    {
      "cell_type": "code",
      "execution_count": null,
      "metadata": {
        "colab": {
          "base_uri": "https://localhost:8080/"
        },
        "id": "miBKhNjaWNWx",
        "outputId": "8b039f00-7d6e-4bf6-8432-76008e361555"
      },
      "outputs": [
        {
          "name": "stdout",
          "output_type": "stream",
          "text": [
            "[0, 1, 2, 3, 4, 5, 6, 7, 8]\n"
          ]
        }
      ],
      "source": [
        "numbers = list(range(0,9))\n",
        "print (numbers)"
      ]
    },
    {
      "cell_type": "markdown",
      "metadata": {
        "id": "yDMVwPc-WyKD"
      },
      "source": [
        "**b- Print the element at index 3**"
      ]
    },
    {
      "cell_type": "code",
      "execution_count": null,
      "metadata": {
        "colab": {
          "base_uri": "https://localhost:8080/"
        },
        "id": "zqPOcUegWxvn",
        "outputId": "27aa24a5-69d7-44d0-bcb1-7128e7c0c6ad"
      },
      "outputs": [
        {
          "name": "stdout",
          "output_type": "stream",
          "text": [
            "3\n"
          ]
        }
      ],
      "source": [
        "numbers = list(range(0,9))\n",
        "print (numbers[3])"
      ]
    },
    {
      "cell_type": "markdown",
      "metadata": {
        "id": "eOqgVbkHYVPg"
      },
      "source": [
        "**c- Print a sublist containing the elements\n",
        "from index 2 to 6 (inclusive)**"
      ]
    },
    {
      "cell_type": "code",
      "execution_count": null,
      "metadata": {
        "colab": {
          "base_uri": "https://localhost:8080/"
        },
        "id": "3SH6aW5mYeU3",
        "outputId": "3b2a5619-2a8d-42d4-b81a-5af2308cf8ec"
      },
      "outputs": [
        {
          "name": "stdout",
          "output_type": "stream",
          "text": [
            "[2, 3, 4, 5, 6]\n"
          ]
        }
      ],
      "source": [
        "numbers = list(range(0,9))\n",
        "print (numbers[2:7])"
      ]
    },
    {
      "cell_type": "markdown",
      "metadata": {
        "id": "Rm_-jBesZ756"
      },
      "source": [
        "**d- Print the last three elements using negative indexing**"
      ]
    },
    {
      "cell_type": "code",
      "execution_count": null,
      "metadata": {
        "colab": {
          "base_uri": "https://localhost:8080/"
        },
        "id": "3RillYkCZ-nx",
        "outputId": "872f21b1-6615-48c3-f478-a2ced4789f9e"
      },
      "outputs": [
        {
          "name": "stdout",
          "output_type": "stream",
          "text": [
            "[6, 7, 8]\n"
          ]
        }
      ],
      "source": [
        "numbers = list(range(0,9))\n",
        "print (numbers[-3:])"
      ]
    },
    {
      "cell_type": "markdown",
      "metadata": {
        "id": "0L7hWL7bbdCJ"
      },
      "source": [
        "#**3- List Comprehension**"
      ]
    },
    {
      "cell_type": "markdown",
      "source": [
        "**a- Create a list named `squares` using a list comprehension that contains the squares of numbers from 1 to 10**"
      ],
      "metadata": {
        "id": "aLYApYgTVcDZ"
      }
    },
    {
      "cell_type": "code",
      "execution_count": null,
      "metadata": {
        "id": "qF7NwPJlbgwh",
        "colab": {
          "base_uri": "https://localhost:8080/"
        },
        "outputId": "249b53f1-a49b-4121-d173-7bd0da5d5ef7"
      },
      "outputs": [
        {
          "output_type": "stream",
          "name": "stdout",
          "text": [
            "[1, 4, 9, 16, 25, 36, 49, 64, 81, 100]\n"
          ]
        }
      ],
      "source": [
        "squares = [x**2 for x in range(1, 11)]\n",
        "print (squares)"
      ]
    },
    {
      "cell_type": "markdown",
      "source": [
        "**b-Create a new list named `even_squares` using a list comprehension that contains the squares of even numbers from the `squares` list**"
      ],
      "metadata": {
        "id": "JWU2L9uuWbSk"
      }
    },
    {
      "cell_type": "code",
      "source": [
        "even_squares = [x for x in squares if x % 2 == 0]\n",
        "print (even_squares)"
      ],
      "metadata": {
        "colab": {
          "base_uri": "https://localhost:8080/"
        },
        "id": "USiLw6bxWhnl",
        "outputId": "c682bfb1-ef14-462d-bfd5-fc7905a4b999"
      },
      "execution_count": null,
      "outputs": [
        {
          "output_type": "stream",
          "name": "stdout",
          "text": [
            "[4, 16, 36, 64, 100]\n"
          ]
        }
      ]
    },
    {
      "cell_type": "markdown",
      "metadata": {
        "id": "VJyHbWs80fiY"
      },
      "source": [
        "#**4- List Manipulation**"
      ]
    },
    {
      "cell_type": "markdown",
      "metadata": {
        "id": "wLV3JB8k1nEU"
      },
      "source": [
        "**a- Create a list named `colors` containing the following items: \"red\", \"green\", \"blue\", \"yellow\", \"purple\".**"
      ]
    },
    {
      "cell_type": "code",
      "execution_count": null,
      "metadata": {
        "colab": {
          "base_uri": "https://localhost:8080/"
        },
        "id": "2NdEQ2vz0kB5",
        "outputId": "a3bca1e3-adb4-4f87-8fd5-0379f6567482"
      },
      "outputs": [
        {
          "name": "stdout",
          "output_type": "stream",
          "text": [
            "['red', 'green', 'blue', 'yellow', 'purple']\n"
          ]
        }
      ],
      "source": [
        "color = [\"red\", \"green\", \"blue\", \"yellow\", \"purple\"]\n",
        "print (color)"
      ]
    },
    {
      "cell_type": "markdown",
      "metadata": {
        "id": "Uu_S3qC81yyA"
      },
      "source": [
        "**b- Swap the first and last elements of the list**"
      ]
    },
    {
      "cell_type": "code",
      "execution_count": null,
      "metadata": {
        "colab": {
          "base_uri": "https://localhost:8080/"
        },
        "id": "diiyP4WQ1ctg",
        "outputId": "db04c39b-3fc4-4315-a539-0c3cc0088069"
      },
      "outputs": [
        {
          "name": "stdout",
          "output_type": "stream",
          "text": [
            "['purple', 'green', 'blue', 'yellow', 'red']\n"
          ]
        }
      ],
      "source": [
        "color = [\"red\", \"green\", \"blue\", \"yellow\", \"purple\"]\n",
        "color[0], color[-1] = color[-1], color[0]\n",
        "print (color)"
      ]
    },
    {
      "cell_type": "markdown",
      "metadata": {
        "id": "N-J-zw973cWc"
      },
      "source": [
        "**c- Reverse the order of the list**"
      ]
    },
    {
      "cell_type": "code",
      "execution_count": null,
      "metadata": {
        "colab": {
          "base_uri": "https://localhost:8080/"
        },
        "id": "nOkpQkMv3emE",
        "outputId": "88d08bc8-6bdb-430a-b39f-c5e3dc82b3f5"
      },
      "outputs": [
        {
          "name": "stdout",
          "output_type": "stream",
          "text": [
            "['purple', 'green', 'blue', 'yellow', 'red']\n",
            "['red', 'yellow', 'blue', 'green', 'purple']\n"
          ]
        }
      ],
      "source": [
        "color = [\"red\", \"green\", \"blue\", \"yellow\", \"purple\"]\n",
        "color[0], color[-1] = color[-1], color[0]\n",
        "print (color)\n",
        "color.reverse()\n",
        "print (color)"
      ]
    },
    {
      "cell_type": "markdown",
      "metadata": {
        "id": "4qhx2Tf_34ib"
      },
      "source": [
        "**d- Remove the second and third elements from the list**"
      ]
    },
    {
      "cell_type": "code",
      "execution_count": null,
      "metadata": {
        "colab": {
          "base_uri": "https://localhost:8080/"
        },
        "id": "I2zM8LiY38l7",
        "outputId": "6209682d-babe-40bf-ad8d-ccc9d895d94b"
      },
      "outputs": [
        {
          "name": "stdout",
          "output_type": "stream",
          "text": [
            "['red', 'yellow', 'purple']\n"
          ]
        }
      ],
      "source": [
        "color = [\"red\", \"green\", \"blue\", \"yellow\", \"purple\"]\n",
        "del color[1:3]\n",
        "print (color)"
      ]
    },
    {
      "cell_type": "markdown",
      "metadata": {
        "id": "MNtKRHFN5D23"
      },
      "source": [
        "#**5- Advanced Slicing**"
      ]
    },
    {
      "cell_type": "markdown",
      "metadata": {
        "id": "uaXsn5DQ5JD6"
      },
      "source": [
        "**a- Create a list named `letters` containing the letters from 'a' to 'j'**"
      ]
    },
    {
      "cell_type": "code",
      "execution_count": null,
      "metadata": {
        "colab": {
          "base_uri": "https://localhost:8080/"
        },
        "id": "dNfWt49f5PBz",
        "outputId": "f0df7bd3-7ec1-49c0-9507-2f4a446e64fe"
      },
      "outputs": [
        {
          "name": "stdout",
          "output_type": "stream",
          "text": [
            "['abcdefghij']\n"
          ]
        }
      ],
      "source": [
        "letters = [\"abcdefghij\"]\n",
        "print (letters)"
      ]
    },
    {
      "cell_type": "code",
      "execution_count": null,
      "metadata": {
        "colab": {
          "base_uri": "https://localhost:8080/"
        },
        "id": "jZ9P7ILE89Qa",
        "outputId": "bd743291-a057-4a54-f5e9-1126800e52ae"
      },
      "outputs": [
        {
          "data": {
            "text/plain": [
              "['a', 'b', 'c', 'd', 'e', 'f', 'g', 'h', 'i', 'j']"
            ]
          },
          "execution_count": 25,
          "metadata": {},
          "output_type": "execute_result"
        }
      ],
      "source": [
        "[i for i in \"abcdefghij\"]"
      ]
    },
    {
      "cell_type": "markdown",
      "metadata": {
        "id": "x-s2pMGH5nUJ"
      },
      "source": [
        "**b- Using slicing, create a new list `first_half` containing the first half of the `letters` list**"
      ]
    },
    {
      "cell_type": "code",
      "execution_count": null,
      "metadata": {
        "colab": {
          "base_uri": "https://localhost:8080/"
        },
        "id": "TB0BAWdF5svX",
        "outputId": "78846bea-7828-4dab-9fff-09ad63e8759e"
      },
      "outputs": [
        {
          "name": "stdout",
          "output_type": "stream",
          "text": [
            "['a', 'b', 'c', 'd', 'e']\n"
          ]
        }
      ],
      "source": [
        "letters = ['a', 'b', 'c', 'd', 'e', 'f', 'g', 'h', 'i', 'j']\n",
        "first_half = letters[:len(letters)//2]\n",
        "print (first_half)"
      ]
    },
    {
      "cell_type": "markdown",
      "metadata": {
        "id": "jYXLZE7n9i-B"
      },
      "source": [
        "**c- Using slicing, create a new list `last_three` containing the last three elements of the `letters` list**"
      ]
    },
    {
      "cell_type": "code",
      "execution_count": null,
      "metadata": {
        "colab": {
          "base_uri": "https://localhost:8080/"
        },
        "id": "zRmZlBO49n39",
        "outputId": "0a499ed7-8e82-4564-b7fa-9c518443ed70"
      },
      "outputs": [
        {
          "name": "stdout",
          "output_type": "stream",
          "text": [
            "['h', 'i', 'j']\n"
          ]
        }
      ],
      "source": [
        "letters = ['a', 'b', 'c', 'd', 'e', 'f', 'g', 'h', 'i', 'j']\n",
        "last_three = letters[-3:]\n",
        "print (last_three)"
      ]
    },
    {
      "cell_type": "markdown",
      "metadata": {
        "id": "0Lnr8hn6-KHk"
      },
      "source": [
        "#**6- Nested Lists**"
      ]
    },
    {
      "cell_type": "markdown",
      "metadata": {
        "id": "m7cFDQqP-OSJ"
      },
      "source": [
        "a- Create a nested list named `matrix` with the following rows:\n",
        "   - [1, 2, 3]\n",
        "   - [4, 5, 6]\n",
        "   - [7, 8, 9]"
      ]
    },
    {
      "cell_type": "code",
      "execution_count": null,
      "metadata": {
        "colab": {
          "base_uri": "https://localhost:8080/"
        },
        "id": "BAqL1lkk-ZMi",
        "outputId": "8a2fb149-c6b3-4a27-89ef-c9ff659f59a2"
      },
      "outputs": [
        {
          "name": "stdout",
          "output_type": "stream",
          "text": [
            "[[1, 2, 3], [4, 5, 6], [7, 8, 9]]\n"
          ]
        }
      ],
      "source": [
        "matrix = [\n",
        "[1, 2, 3],\n",
        "[4, 5, 6],\n",
        "[7, 8, 9],\n",
        "]\n",
        "print (matrix)"
      ]
    },
    {
      "cell_type": "markdown",
      "metadata": {
        "id": "C5szLY80_faB"
      },
      "source": [
        "**b- Print the element in the second row and third column**"
      ]
    },
    {
      "cell_type": "code",
      "execution_count": null,
      "metadata": {
        "colab": {
          "base_uri": "https://localhost:8080/"
        },
        "id": "BGQYrVGN_jLn",
        "outputId": "e5211547-37b7-4657-ceef-4f9908b3d298"
      },
      "outputs": [
        {
          "name": "stdout",
          "output_type": "stream",
          "text": [
            "6\n"
          ]
        }
      ],
      "source": [
        "matrix = [\n",
        "[1, 2, 3],\n",
        "[4, 5, 6],\n",
        "[7, 8, 9],\n",
        "]\n",
        "element = matrix[1][2]\n",
        "print (element)"
      ]
    },
    {
      "cell_type": "markdown",
      "source": [
        "**c- Use nested indexing to change the value at the second row and first column to 0**"
      ],
      "metadata": {
        "id": "AkrVzFFCTWq7"
      }
    },
    {
      "cell_type": "code",
      "source": [
        "matrix = [\n",
        "[1, 2, 3],\n",
        "[4, 5, 6],\n",
        "[7, 8, 9],\n",
        "]\n",
        "matrix[1][0] = 0\n",
        "print (matrix)"
      ],
      "metadata": {
        "colab": {
          "base_uri": "https://localhost:8080/"
        },
        "id": "wbrL1Ow0Tady",
        "outputId": "5ae8d04a-f353-4995-9ac9-ef50e7f68639"
      },
      "execution_count": null,
      "outputs": [
        {
          "output_type": "stream",
          "name": "stdout",
          "text": [
            "[[1, 2, 3], [0, 5, 6], [7, 8, 9]]\n"
          ]
        }
      ]
    }
  ],
  "metadata": {
    "colab": {
      "provenance": [],
      "authorship_tag": "ABX9TyN1AQLX4oJuedqahwHq7Wtv",
      "include_colab_link": true
    },
    "kernelspec": {
      "display_name": "Python 3",
      "name": "python3"
    },
    "language_info": {
      "name": "python"
    }
  },
  "nbformat": 4,
  "nbformat_minor": 0
}